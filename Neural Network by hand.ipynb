{
 "cells": [
  {
   "cell_type": "code",
   "execution_count": 1,
   "metadata": {},
   "outputs": [],
   "source": [
    "from sklearn.datasets import load_digits\n",
    "import numpy as np\n",
    "import matplotlib.pyplot as plt\n",
    "import warnings\n",
    "warnings.filterwarnings(\"ignore\")"
   ]
  },
  {
   "cell_type": "code",
   "execution_count": 2,
   "metadata": {},
   "outputs": [],
   "source": [
    "X, y = load_digits(return_X_y=True)\n",
    "y = y >= 5 + 0"
   ]
  },
  {
   "cell_type": "code",
   "execution_count": 3,
   "metadata": {},
   "outputs": [],
   "source": [
    "def CostFunction(y_hat, y):\n",
    "    m = y.shape[0]\n",
    "    return -1 / m * np.nansum(\n",
    "        np.matmul(np.log(y_hat), y) + np.matmul(np.log(1 - y_hat), 1 - y))"
   ]
  },
  {
   "cell_type": "code",
   "execution_count": 4,
   "metadata": {},
   "outputs": [],
   "source": [
    "class BigSmallNumberNN():\n",
    "    def __init__(self):\n",
    "        self.W1 = np.random.randn(32, 64) * 0.1\n",
    "        self.b1 = np.zeros((32, 1))\n",
    "\n",
    "        self.W2 = np.random.randn(10, 32) * 0.1\n",
    "        self.b2 = np.zeros((10, 1))\n",
    "\n",
    "        self.W3 = np.random.randn(1, 10) * 0.1\n",
    "        self.b3 = np.zeros((1, 1))\n",
    "\n",
    "    def forward(self, X):\n",
    "        self.A0 = X\n",
    "\n",
    "        self.Z1 = np.matmul(self.W1, self.A0) + self.b1\n",
    "        self.A1 = self.ReLU(self.Z1)\n",
    "\n",
    "        self.Z2 = np.matmul(self.W2, self.A1) + self.b2\n",
    "        self.A2 = self.ReLU(self.Z2)\n",
    "\n",
    "        self.Z3 = np.matmul(self.W3, self.A2) + self.b3\n",
    "        self.A3 = self.Sigmoid(self.Z3)\n",
    "        return self.A3\n",
    "\n",
    "    def ReLU(self, z):\n",
    "        return np.maximum(z, 0)\n",
    "\n",
    "    def Sigmoid(self, z):\n",
    "        return 1 / (1 + np.exp(-z))\n",
    "\n",
    "    def backward(self, y, lr=0.01):\n",
    "        m = y.shape[0]\n",
    "        self.dZ3 = 1 / m * (self.A3 - y)\n",
    "        self.dW3 = np.matmul(self.dZ3, self.A2.T)\n",
    "        self.db3 = np.sum(self.dZ3, axis=1, keepdims=True)\n",
    "\n",
    "        self.W3 += lr * self.dW3\n",
    "        self.b3 += lr * self.db3\n",
    "\n",
    "        self.dA2 = np.matmul(self.W3.T, self.dZ3)\n",
    "        self.dZ2 = self.dA2 * np.int64(self.Z2 > 0)\n",
    "        self.dW2 = np.matmul(self.dZ2, self.A1.T)\n",
    "        self.db2 = np.sum(self.dZ2, axis=1, keepdims=True)\n",
    "\n",
    "        self.W2 += lr * self.dW2\n",
    "        self.b2 += lr * self.db2\n",
    "\n",
    "        self.dA1 = np.matmul(self.W2.T, self.dZ2)\n",
    "        self.dZ1 = self.dA1 * np.int64(self.Z1 > 0)\n",
    "        self.dW1 = np.matmul(self.dZ1, self.A0.T)\n",
    "        self.db1 = np.sum(self.dZ1, axis=1, keepdims=True)\n",
    "\n",
    "        self.W1 += lr * self.dW1\n",
    "        self.b1 += lr * self.db1"
   ]
  },
  {
   "cell_type": "code",
   "execution_count": 5,
   "metadata": {},
   "outputs": [],
   "source": [
    "nn = BigSmallNumberNN()"
   ]
  },
  {
   "cell_type": "code",
   "execution_count": 6,
   "metadata": {},
   "outputs": [],
   "source": [
    "for i in range(200):\n",
    "    nn_out = nn.forward(X.T)\n",
    "    cost = CostFunction(nn_out, y)\n",
    "    nn.backward(y)"
   ]
  },
  {
   "cell_type": "code",
   "execution_count": 7,
   "metadata": {},
   "outputs": [],
   "source": []
  },
  {
   "cell_type": "code",
   "execution_count": null,
   "metadata": {},
   "outputs": [],
   "source": []
  }
 ],
 "metadata": {
  "kernelspec": {
   "display_name": "Python 3",
   "language": "python",
   "name": "python3"
  },
  "language_info": {
   "codemirror_mode": {
    "name": "ipython",
    "version": 3
   },
   "file_extension": ".py",
   "mimetype": "text/x-python",
   "name": "python",
   "nbconvert_exporter": "python",
   "pygments_lexer": "ipython3",
   "version": "3.8.3"
  }
 },
 "nbformat": 4,
 "nbformat_minor": 2
}
